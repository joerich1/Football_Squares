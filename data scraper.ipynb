{
 "cells": [
  {
   "cell_type": "markdown",
   "id": "8d9f277d-7141-422e-b51f-f559c60a79c2",
   "metadata": {},
   "source": [
    "# Importing Necessary Libraries and Setting Up Environment\n",
    "\n",
    "This cell sets up the environment and imports the required libraries and functions to begin the scraping process:\n",
    "\n",
    "- **Libraries**:\n",
    "  - `BeautifulSoup`: For parsing HTML content.\n",
    "  - `Path` (from `pathlib`): For working with file paths.\n",
    "  - `pandas`: For handling tabular data.\n",
    "  - `requests`: For making HTTP requests.\n",
    "  - `sys`: For modifying the Python path.\n",
    "  - `time`: For adding delays between requests.\n",
    "\n",
    "- **Utility Functions**:\n",
    "  - The utility functions (`make_request`, `extract_boxscore_links`, and `get_boxscore`) are imported from `utils.py` located in the `src/` folder. The `src/` folder is added to the Python path using `Path` and `sys.path`.\n",
    "\n",
    "- **Setup Variables**:\n",
    "  - `year`: Specifies the season year for scraping data.\n",
    "  - `url_year`: The URL for the NFL schedule page for the specified year.\n",
    "  - `url_box`: A sample URL for a specific game’s boxscore.\n",
    "\n",
    "This cell ensures that the environment is ready for the scraping workflow by organizing imports and setting initial variables."
   ]
  },
  {
   "cell_type": "code",
   "execution_count": null,
   "id": "79d5c2db-acca-4752-9e4e-f3eb5e523bc9",
   "metadata": {},
   "outputs": [],
   "source": [
    "from bs4 import BeautifulSoup\n",
    "from pathlib import Path\n",
    "import pandas as pd\n",
    "import requests\n",
    "import sys\n",
    "import time\n",
    "\n",
    "# Add the src/ folder to the Python path\n",
    "sys.path.append(str(Path().resolve() / \"src\"))\n",
    "\n",
    "from utils import make_request, extract_boxscore_links, get_boxscore\n",
    "\n",
    "year = 1978\n",
    "url_year = f\"https://www.footballdb.com/games/index.html?lg=NFL&yr={year}\"\n",
    "url_box = \"https://www.footballdb.com//games/boxscore/new-york-jets-vs-cleveland-browns-1978121006\""
   ]
  },
  {
   "cell_type": "markdown",
   "id": "139792e3-5360-41a6-a780-f67009250263",
   "metadata": {},
   "source": [
    "# Scraping NFL Boxscore Data from 1978 to 2023\n",
    "\n",
    "This cell implements the main scraping workflow to gather NFL boxscore data for each game from 1978 to 2022. The process is as follows:\n",
    "\n",
    "1. **Setup**:\n",
    "   - A timer (`start_time`) is initialized to track the total runtime.\n",
    "   - An empty dictionary (`boxscores_dict`) is created to store raw data by year and week.\n",
    "   - An empty DataFrame (`boxscores_df`) is initialized to hold the final structured data.\n",
    "\n",
    "2. **Iterating Over Years**:\n",
    "   - For each year in the range 1978–2022:\n",
    "     - The URL for the year’s schedule page is constructed (`url_year`).\n",
    "     - The schedule page is fetched using the `make_request` utility function.\n",
    "     - The HTML content is parsed with `BeautifulSoup`.\n",
    "\n",
    "3. **Extracting Weekly Links**:\n",
    "   - The `extract_boxscore_links` function identifies all game links for each week.\n",
    "   - If no links are found for a week, the loop breaks early.\n",
    "\n",
    "4. **Processing Each Game**:\n",
    "   - For each game in a week:\n",
    "     - The boxscore URL is fetched and parsed.\n",
    "     - The game’s data is extracted using the `get_boxscore` utility function.\n",
    "     - A temporary DataFrame is created to hold the game’s data, including additional columns for the season and week.\n",
    "     - The temporary DataFrame is appended to the main DataFrame (`boxscores_df`).\n",
    "\n",
    "5. **Tracking Progress**:\n",
    "   - After processing all weeks and games in a season, the elapsed time is printed for tracking performance.\n",
    "\n",
    "6. **Final Output**:\n",
    "   - The `head()` method is called on `boxscores_df` to display the first few rows of the compiled dataset.\n",
    "\n",
    "This workflow ensures that all relevant boxscore data is collected, structured, and stored in a DataFrame for analysis."
   ]
  },
  {
   "cell_type": "code",
   "execution_count": null,
   "id": "e79ff2d2-c302-406e-993d-de7b69d96692",
   "metadata": {
    "scrolled": true
   },
   "outputs": [],
   "source": [
    "start_time = time.time()\n",
    "years = range(1978, 2024)\n",
    "boxscores_dict = {}\n",
    "boxscores_df = pd.DataFrame()\n",
    "\n",
    "for year in years:\n",
    "    boxscores_dict[year] = {}\n",
    "    \n",
    "    url_year = f\"https://www.footballdb.com/games/index.html?lg=NFL&yr={year}\"\n",
    "    response_year = make_request(url_year)\n",
    "    soup_year = BeautifulSoup(response_year.content, 'html.parser')\n",
    "\n",
    "    links = extract_boxscore_links(soup_year)\n",
    "    weeks = range(1, 18)\n",
    "    for week in weeks:\n",
    "        boxscores_dict[year][week] = {}\n",
    "        if week not in links.keys():\n",
    "            break\n",
    "        \n",
    "        for game_ind, url_game in enumerate(links[week]):\n",
    "            response_game = make_request(url_game)\n",
    "            soup_game = BeautifulSoup(response_game.content, 'html.parser')\n",
    "            boxscore = get_boxscore(soup_game)\n",
    "            game_df = pd.DataFrame([boxscore])\n",
    "            game_df[\"season\"] = year\n",
    "            game_df[\"week\"] = week\n",
    "        \n",
    "            boxscores_df = pd.concat([boxscores_df, game_df], ignore_index=True)\n",
    "\n",
    "    end_time = time.time()\n",
    "    print(\"Season\", year)\n",
    "    print(f\"elapsed time: {end_time - start_time}s\")\n",
    "\n",
    "boxscores_df.head()"
   ]
  },
  {
   "cell_type": "markdown",
   "id": "557ad7c2-1e19-4bfe-a309-3afdbbdf61ff",
   "metadata": {},
   "source": [
    "# Saving the Boxscore Data to a CSV File\n",
    "\n",
    "This cell saves the compiled NFL boxscore data stored in the `boxscores_df` DataFrame to a CSV file for further analysis or sharing.\n",
    "\n",
    "- **File Name**: The file is saved as `\"data/nfl box scores 2.csv\"` in the `data/` directory.\n",
    "- **Index Exclusion**: The `index=False` parameter ensures that the DataFrame index is not included in the CSV file, keeping the output clean and focused on the data.\n",
    "\n",
    "This step finalizes the scraping workflow by exporting the processed data into a convenient and portable format."
   ]
  },
  {
   "cell_type": "code",
   "execution_count": null,
   "id": "ac590037-cefe-4223-95d1-bb2adaf671bc",
   "metadata": {},
   "outputs": [],
   "source": [
    "boxscores_df.to_csv(\"data/nfl box scores 2.csv\", index=False)"
   ]
  }
 ],
 "metadata": {
  "kernelspec": {
   "display_name": "Python 3 (ipykernel)",
   "language": "python",
   "name": "python3"
  },
  "language_info": {
   "codemirror_mode": {
    "name": "ipython",
    "version": 3
   },
   "file_extension": ".py",
   "mimetype": "text/x-python",
   "name": "python",
   "nbconvert_exporter": "python",
   "pygments_lexer": "ipython3",
   "version": "3.9.19"
  }
 },
 "nbformat": 4,
 "nbformat_minor": 5
}
